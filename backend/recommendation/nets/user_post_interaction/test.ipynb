{
 "cells": [
  {
   "cell_type": "code",
   "execution_count": 1,
   "metadata": {},
   "outputs": [
    {
     "name": "stdout",
     "output_type": "stream",
     "text": [
      "\u001b[33mDEPRECATION: Loading egg at /opt/anaconda3/lib/python3.12/site-packages/open_nre-0.1.1-py3.12.egg is deprecated. pip 24.3 will enforce this behaviour change. A possible replacement is to use pip for package installation. Discussion can be found at https://github.com/pypa/pip/issues/12330\u001b[0m\u001b[33m\n",
      "\u001b[0mCollecting myfm\n",
      "  Downloading myfm-0.3.2.0.tar.gz (401 kB)\n",
      "  Installing build dependencies ... \u001b[?25ldone\n",
      "\u001b[?25h  Getting requirements to build wheel ... \u001b[?25ldone\n",
      "\u001b[?25h  Preparing metadata (pyproject.toml) ... \u001b[?25ldone\n",
      "\u001b[?25hRequirement already satisfied: numpy>=1.11 in /opt/anaconda3/lib/python3.12/site-packages (from myfm) (1.26.4)\n",
      "Requirement already satisfied: scipy>=1.0 in /opt/anaconda3/lib/python3.12/site-packages (from myfm) (1.11.4)\n",
      "Requirement already satisfied: tqdm>=4 in /opt/anaconda3/lib/python3.12/site-packages (from myfm) (4.66.4)\n",
      "Requirement already satisfied: pandas>=1.0.0 in /opt/anaconda3/lib/python3.12/site-packages (from myfm) (2.2.2)\n",
      "Requirement already satisfied: typing-extensions>=4.0.0 in /opt/anaconda3/lib/python3.12/site-packages (from myfm) (4.11.0)\n",
      "Requirement already satisfied: python-dateutil>=2.8.2 in /opt/anaconda3/lib/python3.12/site-packages (from pandas>=1.0.0->myfm) (2.9.0.post0)\n",
      "Requirement already satisfied: pytz>=2020.1 in /opt/anaconda3/lib/python3.12/site-packages (from pandas>=1.0.0->myfm) (2024.1)\n",
      "Requirement already satisfied: tzdata>=2022.7 in /opt/anaconda3/lib/python3.12/site-packages (from pandas>=1.0.0->myfm) (2023.3)\n",
      "Requirement already satisfied: six>=1.5 in /opt/anaconda3/lib/python3.12/site-packages (from python-dateutil>=2.8.2->pandas>=1.0.0->myfm) (1.16.0)\n",
      "Building wheels for collected packages: myfm\n",
      "  Building wheel for myfm (pyproject.toml) ... \u001b[?25ldone\n",
      "\u001b[?25h  Created wheel for myfm: filename=myfm-0.3.2.0-cp312-cp312-macosx_11_0_arm64.whl size=374707 sha256=c569ecc6c7ca6d20d4fdc23250ad79f6971bc98f9c3708b695871abf32f917ff\n",
      "  Stored in directory: /Users/macbookair/Library/Caches/pip/wheels/f8/ed/ed/8c09855fee1980cd9e130b073d4bba24d7bd8f6b69e0a8cdbc\n",
      "Successfully built myfm\n",
      "Installing collected packages: myfm\n",
      "Successfully installed myfm-0.3.2.0\n",
      "Note: you may need to restart the kernel to use updated packages.\n"
     ]
    }
   ],
   "source": [
    "pip install myfm"
   ]
  },
  {
   "cell_type": "code",
   "execution_count": 19,
   "metadata": {},
   "outputs": [
    {
     "name": "stdout",
     "output_type": "stream",
     "text": [
      "[[19.  0.  0.  0.  1.  1.  0.  0.  0.]\n",
      " [33.  0.  0.  1.  0.  0.  1.  0.  0.]\n",
      " [55.  0.  1.  0.  0.  0.  0.  1.  0.]\n",
      " [20.  1.  0.  0.  0.  0.  0.  0.  1.]]\n"
     ]
    },
    {
     "name": "stderr",
     "output_type": "stream",
     "text": [
      "w0 = -1.61 : 100%|██████████| 100/100 [00:00<00:00, 10292.27it/s]"
     ]
    },
    {
     "name": "stdout",
     "output_type": "stream",
     "text": [
      "[0.03550157]\n"
     ]
    },
    {
     "name": "stderr",
     "output_type": "stream",
     "text": [
      "\n"
     ]
    }
   ],
   "source": [
    "import myfm\n",
    "from sklearn.feature_extraction import DictVectorizer\n",
    "import numpy as np\n",
    "train = [\n",
    "\t{\"user\": \"1\", \"item\": \"5\", \"age\": 19},\n",
    "\t{\"user\": \"2\", \"item\": \"43\", \"age\": 33},\n",
    "\t{\"user\": \"3\", \"item\": \"20\", \"age\": 55},\n",
    "\t{\"user\": \"4\", \"item\": \"10\", \"age\": 20},\n",
    "]\n",
    "v = DictVectorizer()\n",
    "X = v.fit_transform(train)\n",
    "print(X.toarray())\n",
    "# print\n",
    "# [[ 19.   0.   0.   0.   1.   1.   0.   0.   0.]\n",
    "#  [ 33.   0.   0.   1.   0.   0.   1.   0.   0.]\n",
    "#  [ 55.   0.   1.   0.   0.   0.   0.   1.   0.]\n",
    "#  [ 20.   1.   0.   0.   0.   0.   0.   0.   1.]]\n",
    "y = np.asarray([0, 1, 1, 0])\n",
    "fm = myfm.MyFMClassifier(rank=4)\n",
    "fm.fit(X,y)\n",
    "fm.predict(v.transform({\"user\": \"1\", \"item\": \"10\", \"age\": 24}))\n",
    "predicted_rating = fm.predict_proba(v.transform({\"user\": \"1\", \"item\": \"5\", \"age\": 19}))\n",
    "print(predicted_rating)"
   ]
  },
  {
   "cell_type": "code",
   "execution_count": 7,
   "metadata": {},
   "outputs": [],
   "source": [
    "import pandas as pd\n",
    "import numpy as np\n",
    "from myfm import MyFMRegressor, RelationBlock\n",
    "from sklearn.preprocessing import OneHotEncoder\n",
    "\n",
    "users = pd.DataFrame([\n",
    "    {'user_id': 1, 'age': '20s', 'married': False},\n",
    "    {'user_id': 2, 'age': '30s', 'married': False},\n",
    "    {'user_id': 3, 'age': '40s', 'married': True}\n",
    "]).set_index('user_id')\n",
    "\n",
    "movies = pd.DataFrame([\n",
    "    {'movie_id': 1, 'comedy': True, 'action': False },\n",
    "    {'movie_id': 2, 'comedy': False, 'action': True },\n",
    "    {'movie_id': 3, 'comedy': True, 'action': True}\n",
    "]).set_index('movie_id')\n",
    "\n",
    "ratings = pd.DataFrame([\n",
    "    {'user_id': 1, 'movie_id': 1, 'rating': 2},\n",
    "    {'user_id': 1, 'movie_id': 2, 'rating': 5},\n",
    "    {'user_id': 2, 'movie_id': 2, 'rating': 4},\n",
    "    {'user_id': 2, 'movie_id': 3, 'rating': 3},\n",
    "    {'user_id': 3, 'movie_id': 3, 'rating': 3},\n",
    "])\n"
   ]
  },
  {
   "cell_type": "code",
   "execution_count": 8,
   "metadata": {},
   "outputs": [],
   "source": [
    "user_ids, user_indices = np.unique(ratings.user_id, return_inverse=True)\n",
    "movie_ids, movie_indices = np.unique(ratings.movie_id, return_inverse=True)\n",
    "\n",
    "user_ohe = OneHotEncoder(handle_unknown='ignore').fit(users.reset_index()) # include user id as feature\n",
    "movie_ohe = OneHotEncoder(handle_unknown='ignore').fit(movies.reset_index())\n"
   ]
  },
  {
   "cell_type": "code",
   "execution_count": 9,
   "metadata": {},
   "outputs": [],
   "source": [
    "X_user = user_ohe.transform(\n",
    "    users.reindex(user_ids).reset_index()\n",
    ")\n",
    "X_movie = movie_ohe.transform(\n",
    "    movies.reindex(movie_ids).reset_index()\n",
    ")\n",
    "\n",
    "block_user = RelationBlock(user_indices, X_user)\n",
    "block_movie = RelationBlock(movie_indices, X_movie)"
   ]
  },
  {
   "cell_type": "code",
   "execution_count": 10,
   "metadata": {},
   "outputs": [
    {
     "name": "stderr",
     "output_type": "stream",
     "text": [
      "alpha = 1.11 w0 = 0.40 : 100%|██████████| 100/100 [00:00<00:00, 12035.31it/s]\n"
     ]
    }
   ],
   "source": [
    "fm = MyFMRegressor(rank=2).fit(None, ratings.rating, X_rel=[block_user, block_movie])\n"
   ]
  },
  {
   "cell_type": "code",
   "execution_count": 11,
   "metadata": {},
   "outputs": [],
   "source": [
    "prediction_df = pd.DataFrame([\n",
    "    dict(user_id=user_id,movie_id=movie_id,\n",
    "         user_index=user_index, movie_index=movie_index)\n",
    "    for user_index, user_id in enumerate(user_ids)\n",
    "    for movie_index, movie_id in enumerate(movie_ids)\n",
    "])\n"
   ]
  },
  {
   "cell_type": "code",
   "execution_count": 12,
   "metadata": {},
   "outputs": [],
   "source": [
    "predicted_rating = fm.predict(None, [\n",
    "    RelationBlock(prediction_df.user_index, X_user),\n",
    "    RelationBlock(prediction_df.movie_index, X_movie)\n",
    "])\n"
   ]
  },
  {
   "cell_type": "code",
   "execution_count": 13,
   "metadata": {},
   "outputs": [
    {
     "name": "stdout",
     "output_type": "stream",
     "text": [
      "   user_id  movie_id  user_index  movie_index  prediction  ground_truth\n",
      "0        1         1           0            0    2.126319           2.0\n",
      "1        1         2           0            1    4.571276           5.0\n",
      "2        1         3           0            2    3.620357           NaN\n",
      "3        2         1           1            0    2.076419           NaN\n",
      "4        2         2           1            1    4.086285           4.0\n",
      "5        2         3           1            2    3.063831           3.0\n",
      "6        3         1           2            0    2.141544           NaN\n",
      "7        3         2           2            1    4.812765           NaN\n",
      "8        3         3           2            2    3.114697           3.0\n"
     ]
    }
   ],
   "source": [
    "\n",
    "prediction_df['prediction']  = predicted_rating\n",
    "\n",
    "print(\n",
    "    prediction_df.merge(ratings.rename(columns={'rating':'ground_truth'}), how='left')\n",
    ")"
   ]
  }
 ],
 "metadata": {
  "kernelspec": {
   "display_name": "base",
   "language": "python",
   "name": "python3"
  },
  "language_info": {
   "codemirror_mode": {
    "name": "ipython",
    "version": 3
   },
   "file_extension": ".py",
   "mimetype": "text/x-python",
   "name": "python",
   "nbconvert_exporter": "python",
   "pygments_lexer": "ipython3",
   "version": "3.12.2"
  }
 },
 "nbformat": 4,
 "nbformat_minor": 2
}
